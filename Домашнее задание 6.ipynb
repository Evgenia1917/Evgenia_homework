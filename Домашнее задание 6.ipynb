{
 "cells": [
  {
   "cell_type": "code",
   "execution_count": 47,
   "metadata": {},
   "outputs": [
    {
     "name": "stdout",
     "output_type": "stream",
     "text": [
      "Requirement already satisfied: pymystem3==0.1.10 in c:\\users\\днс\\appdata\\local\\packages\\pythonsoftwarefoundation.python.3.8_qbz5n2kfra8p0\\localcache\\local-packages\\python38\\site-packages (0.1.10)\n",
      "Requirement already satisfied: requests in c:\\users\\днс\\appdata\\local\\packages\\pythonsoftwarefoundation.python.3.8_qbz5n2kfra8p0\\localcache\\local-packages\\python38\\site-packages (from pymystem3==0.1.10) (2.25.0)\n",
      "Requirement already satisfied: certifi>=2017.4.17 in c:\\users\\днс\\appdata\\local\\packages\\pythonsoftwarefoundation.python.3.8_qbz5n2kfra8p0\\localcache\\local-packages\\python38\\site-packages (from requests->pymystem3==0.1.10) (2020.12.5)\n",
      "Requirement already satisfied: urllib3<1.27,>=1.21.1 in c:\\users\\днс\\appdata\\local\\packages\\pythonsoftwarefoundation.python.3.8_qbz5n2kfra8p0\\localcache\\local-packages\\python38\\site-packages (from requests->pymystem3==0.1.10) (1.26.2)\n",
      "Requirement already satisfied: chardet<4,>=3.0.2 in c:\\users\\днс\\appdata\\local\\packages\\pythonsoftwarefoundation.python.3.8_qbz5n2kfra8p0\\localcache\\local-packages\\python38\\site-packages (from requests->pymystem3==0.1.10) (3.0.4)\n",
      "Requirement already satisfied: idna<3,>=2.5 in c:\\users\\днс\\appdata\\local\\packages\\pythonsoftwarefoundation.python.3.8_qbz5n2kfra8p0\\localcache\\local-packages\\python38\\site-packages (from requests->pymystem3==0.1.10) (2.10)\n"
     ]
    },
    {
     "name": "stderr",
     "output_type": "stream",
     "text": [
      "WARNING: You are using pip version 20.2.1; however, version 20.3.1 is available.\n",
      "You should consider upgrading via the 'C:\\Users\\ДНС\\AppData\\Local\\Microsoft\\WindowsApps\\PythonSoftwareFoundation.Python.3.8_qbz5n2kfra8p0\\python.exe -m pip install --upgrade pip' command.\n"
     ]
    },
    {
     "name": "stdout",
     "output_type": "stream",
     "text": [
      "Collecting pymorphy2"
     ]
    },
    {
     "name": "stderr",
     "output_type": "stream",
     "text": [
      "  WARNING: The script pymorphy.exe is installed in 'C:\\Users\\ДНС\\AppData\\Local\\Packages\\PythonSoftwareFoundation.Python.3.8_qbz5n2kfra8p0\\LocalCache\\local-packages\\Python38\\Scripts' which is not on PATH.\n",
      "  Consider adding this directory to PATH or, if you prefer to suppress this warning, use --no-warn-script-location.\n",
      "WARNING: You are using pip version 20.2.1; however, version 20.3.1 is available.\n",
      "You should consider upgrading via the 'C:\\Users\\ДНС\\AppData\\Local\\Microsoft\\WindowsApps\\PythonSoftwareFoundation.Python.3.8_qbz5n2kfra8p0\\python.exe -m pip install --upgrade pip' command.\n"
     ]
    },
    {
     "name": "stdout",
     "output_type": "stream",
     "text": [
      "\n",
      "  Using cached pymorphy2-0.9.1-py3-none-any.whl (55 kB)\n",
      "Requirement already satisfied: pymorphy2-dicts-ru<3.0,>=2.4 in c:\\users\\днс\\appdata\\local\\packages\\pythonsoftwarefoundation.python.3.8_qbz5n2kfra8p0\\localcache\\local-packages\\python38\\site-packages (from pymorphy2) (2.4.417127.4579844)\n",
      "Requirement already satisfied: dawg-python>=0.7.1 in c:\\users\\днс\\appdata\\local\\packages\\pythonsoftwarefoundation.python.3.8_qbz5n2kfra8p0\\localcache\\local-packages\\python38\\site-packages (from pymorphy2) (0.7.2)\n",
      "Requirement already satisfied: docopt>=0.6 in c:\\users\\днс\\appdata\\local\\packages\\pythonsoftwarefoundation.python.3.8_qbz5n2kfra8p0\\localcache\\local-packages\\python38\\site-packages (from pymorphy2) (0.6.2)\n",
      "Installing collected packages: pymorphy2\n",
      "Successfully installed pymorphy2-0.9.1\n",
      "Requirement already satisfied: gensim in c:\\users\\днс\\appdata\\local\\packages\\pythonsoftwarefoundation.python.3.8_qbz5n2kfra8p0\\localcache\\local-packages\\python38\\site-packages (3.8.3)\n",
      "Requirement already satisfied: Cython==0.29.14 in c:\\users\\днс\\appdata\\local\\packages\\pythonsoftwarefoundation.python.3.8_qbz5n2kfra8p0\\localcache\\local-packages\\python38\\site-packages (from gensim) (0.29.14)\n",
      "Requirement already satisfied: smart-open>=1.8.1 in c:\\users\\днс\\appdata\\local\\packages\\pythonsoftwarefoundation.python.3.8_qbz5n2kfra8p0\\localcache\\local-packages\\python38\\site-packages (from gensim) (4.0.1)\n",
      "Requirement already satisfied: scipy>=0.18.1 in c:\\users\\днс\\appdata\\local\\packages\\pythonsoftwarefoundation.python.3.8_qbz5n2kfra8p0\\localcache\\local-packages\\python38\\site-packages (from gensim) (1.5.4)\n",
      "Requirement already satisfied: six>=1.5.0 in c:\\users\\днс\\appdata\\local\\packages\\pythonsoftwarefoundation.python.3.8_qbz5n2kfra8p0\\localcache\\local-packages\\python38\\site-packages (from gensim) (1.15.0)\n",
      "Requirement already satisfied: numpy>=1.11.3 in c:\\users\\днс\\appdata\\local\\packages\\pythonsoftwarefoundation.python.3.8_qbz5n2kfra8p0\\localcache\\local-packages\\python38\\site-packages (from gensim) (1.19.4)\n"
     ]
    },
    {
     "name": "stderr",
     "output_type": "stream",
     "text": [
      "WARNING: You are using pip version 20.2.1; however, version 20.3.1 is available.\n",
      "You should consider upgrading via the 'C:\\Users\\ДНС\\AppData\\Local\\Microsoft\\WindowsApps\\PythonSoftwareFoundation.Python.3.8_qbz5n2kfra8p0\\python.exe -m pip install --upgrade pip' command.\n"
     ]
    }
   ],
   "source": [
    "!pip install pymystem3==0.1.10\n",
    "!pip install pymorphy2\n",
    "!pip install gensim\n"
   ]
  },
  {
   "cell_type": "code",
   "execution_count": 3,
   "metadata": {},
   "outputs": [],
   "source": [
    "import string\n",
    "from gensim.utils import tokenize\n",
    "from gensim.summarization.textcleaner import split_sentences\n",
    "from nltk import sent_tokenize\n",
    "from nltk.tokenize import word_tokenize, wordpunct_tokenize\n",
    "from pymorphy2 import MorphAnalyzer\n",
    "from pymystem3 import Mystem\n",
    "from nltk.corpus import stopwords\n",
    "from string import punctuation\n",
    "import re, os, json\n",
    "mystem = Mystem()\n",
    "morph = MorphAnalyzer()"
   ]
  },
  {
   "cell_type": "code",
   "execution_count": 59,
   "metadata": {
    "collapsed": true
   },
   "outputs": [
    {
     "name": "stdout",
     "output_type": "stream",
     "text": [
      "Collecting numpy==1.19.3\n",
      "  Downloading numpy-1.19.3-cp38-cp38-win_amd64.whl (13.3 MB)\n",
      "Installing collected packages: numpy\n",
      "  Attempting uninstall: numpy\n",
      "    Found existing installation: numpy 1.19.4\n",
      "    Uninstalling numpy-1.19.4:\n"
     ]
    },
    {
     "name": "stderr",
     "output_type": "stream",
     "text": [
      "  WARNING: The script f2py.exe is installed in 'C:\\Users\\ДНС\\AppData\\Local\\Packages\\PythonSoftwareFoundation.Python.3.8_qbz5n2kfra8p0\\LocalCache\\local-packages\\Python38\\Scripts' which is not on PATH.\n",
      "  Consider adding this directory to PATH or, if you prefer to suppress this warning, use --no-warn-script-location.\n",
      "ERROR: Could not install packages due to an EnvironmentError: [WinError 5] Отказано в доступе: 'C:\\\\Users\\\\ДНС\\\\AppData\\\\Local\\\\Packages\\\\PythonSoftwareFoundation.Python.3.8_qbz5n2kfra8p0\\\\LocalCache\\\\local-packages\\\\Python38\\\\site-packages\\\\~umpy\\\\.libs\\\\libopenblas.NOIJJG62EMASZI6NYURL6JBKM4EVBGM7.gfortran-win_amd64.dll'\n",
      "Check the permissions.\n",
      "\n",
      "WARNING: You are using pip version 20.2.1; however, version 20.3.1 is available.\n",
      "You should consider upgrading via the 'C:\\Users\\ДНС\\AppData\\Local\\Microsoft\\WindowsApps\\PythonSoftwareFoundation.Python.3.8_qbz5n2kfra8p0\\python.exe -m pip install --upgrade pip' command.\n"
     ]
    },
    {
     "name": "stdout",
     "output_type": "stream",
     "text": [
      "      Successfully uninstalled numpy-1.19.4\n"
     ]
    }
   ],
   "source": [
    "!pip install numpy==1.19.3"
   ]
  },
  {
   "cell_type": "code",
   "execution_count": 107,
   "metadata": {},
   "outputs": [
    {
     "name": "stdout",
     "output_type": "stream",
     "text": [
      "Requirement already satisfied: nltk in c:\\users\\днс\\appdata\\local\\packages\\pythonsoftwarefoundation.python.3.8_qbz5n2kfra8p0\\localcache\\local-packages\\python38\\site-packages (3.5)"
     ]
    },
    {
     "name": "stderr",
     "output_type": "stream",
     "text": [
      "WARNING: You are using pip version 20.2.1; however, version 20.3.1 is available.\n",
      "You should consider upgrading via the 'C:\\Users\\ДНС\\AppData\\Local\\Microsoft\\WindowsApps\\PythonSoftwareFoundation.Python.3.8_qbz5n2kfra8p0\\python.exe -m pip install --upgrade pip' command.\n"
     ]
    },
    {
     "name": "stdout",
     "output_type": "stream",
     "text": [
      "\n",
      "Requirement already satisfied: click in c:\\users\\днс\\appdata\\local\\packages\\pythonsoftwarefoundation.python.3.8_qbz5n2kfra8p0\\localcache\\local-packages\\python38\\site-packages (from nltk) (7.1.2)\n",
      "Requirement already satisfied: joblib in c:\\users\\днс\\appdata\\local\\packages\\pythonsoftwarefoundation.python.3.8_qbz5n2kfra8p0\\localcache\\local-packages\\python38\\site-packages (from nltk) (0.17.0)\n",
      "Requirement already satisfied: regex in c:\\users\\днс\\appdata\\local\\packages\\pythonsoftwarefoundation.python.3.8_qbz5n2kfra8p0\\localcache\\local-packages\\python38\\site-packages (from nltk) (2020.11.13)\n",
      "Requirement already satisfied: tqdm in c:\\users\\днс\\appdata\\local\\packages\\pythonsoftwarefoundation.python.3.8_qbz5n2kfra8p0\\localcache\\local-packages\\python38\\site-packages (from nltk) (4.54.1)\n"
     ]
    }
   ],
   "source": [
    "!pip install nltk"
   ]
  },
  {
   "cell_type": "code",
   "execution_count": 4,
   "metadata": {},
   "outputs": [],
   "source": [
    "#Нормализованный текст для подсчета слов\n",
    "smell = open('city_smells.txt', 'r', encoding = \"utf-8\")\n",
    "read_smell = smell.read()\n",
    "#print(type(read_smell), read_smell)\n",
    "smell.close()\n",
    "\n",
    "def normalize(text):\n",
    "    normalized = text.lower().translate(str.maketrans('','',string.punctuation)).split()\n",
    "    return normalized\n",
    "smell_norm = normalize(read_smell)\n",
    "#print(smell_norm,len(smell_norm))\n"
   ]
  },
  {
   "cell_type": "code",
   "execution_count": 11,
   "metadata": {},
   "outputs": [
    {
     "name": "stdout",
     "output_type": "stream",
     "text": [
      "[7, 5, 16, 5, 2, 9, 6, 2, 3, 8, 1, 7, 2, 8, 1, 7, 6, 1, 3, 2, 8, 1, 7, 9, 4, 1, 5, 14, 5, 1, 5, 10, 7, 5, 7, 3, 6, 10, 12, 3, 1, 6, 2, 3, 9, 1, 8, 7, 5, 10, 2, 8, 10, 1, 14, 9, 5, 6, 6, 2, 6, 13, 4, 1, 6, 7, 6, 4, 6, 9, 3, 16, 1, 8, 13, 9, 7, 5, 6, 1, 6, 6, 1, 7, 3, 11, 1, 6, 5, 6, 3, 6, 4, 2, 9, 7, 1, 8, 6, 2, 5, 3, 6, 3, 10, 6, 6, 7, 5, 6, 12, 4, 2, 8, 1, 10, 3, 6, 7, 9, 2, 4, 7, 10, 5, 2, 5, 2, 6, 5, 8, 1, 10, 12, 3, 9, 8, 8, 7, 7, 2, 4, 4, 8, 11, 9, 6, 2, 5, 8, 6, 10, 1, 6, 2, 1, 6, 6, 4, 10, 2, 5, 4, 10, 6, 9, 8, 12, 8, 5, 5, 7, 1, 4, 2, 5, 3, 1, 11, 8, 4, 6, 2, 8, 6, 8, 10, 1, 11, 10, 1, 11, 1, 4, 7, 6, 1, 6, 1, 6, 10, 5, 5, 2, 9, 10, 2, 6, 2, 8, 7, 2, 9, 9, 9, 1, 2, 8, 6, 2, 8, 6, 2, 7, 8, 8, 1, 1, 1, 4, 3, 5, 8, 5, 6, 2, 8, 3, 6, 2, 8, 1, 7, 5, 4, 1, 5, 3, 7, 4, 6, 2, 8, 6, 6, 6, 1, 8, 1, 11, 3, 9, 1, 2, 5, 7, 4, 4, 8, 6, 2, 7, 5, 9, 1, 7, 2, 6, 4, 6, 3, 8, 10, 4, 6, 5, 7, 1, 8, 8, 10, 4, 5, 1, 3, 5, 13, 10, 3, 5, 3, 3, 5, 11, 1, 5, 6, 5, 6, 6, 9, 5, 12, 9, 7, 8, 11, 16, 5, 16, 7, 6, 9, 6, 5, 4, 8, 12, 1, 10, 5, 5, 13, 10, 4, 9, 5, 4, 9, 5, 7, 4, 5, 7, 2, 6, 3, 13, 5, 5, 5, 8, 1, 7, 14, 2, 13, 11, 6, 5, 7, 1, 11, 3, 11, 8, 8, 9, 7, 5, 12, 13, 1, 11, 8, 11, 1, 7, 2, 12, 1, 1, 8, 1, 11, 7, 10, 9, 11, 8, 7, 11, 9, 7, 10, 11, 2, 8, 1, 7, 9, 7, 2, 8, 7, 7, 3, 5, 6, 6, 1, 9, 7, 8, 1, 1, 6, 7, 1, 7, 5, 1, 3, 3, 6, 1, 5, 6, 8, 7, 1, 9, 12, 11, 1, 6, 11, 3, 16, 1, 12, 1, 1, 10, 9, 5, 5, 7, 8, 2, 6, 2, 7, 6, 2, 8, 13, 7, 13, 5, 3, 5, 6, 3, 6, 5, 5, 7, 4, 3, 6, 1, 9, 3, 6, 6, 3, 7, 4, 7, 1, 16, 6, 4, 5, 5, 7, 4, 6, 8, 1, 3, 5, 7, 12, 7, 6, 10, 3, 6, 5, 11, 1, 6, 3, 17, 14, 8, 6, 4, 6, 3, 6, 7, 4, 8, 8, 4, 2, 11, 2, 11, 1, 7, 4, 9, 7, 12, 6, 2, 8, 7, 11, 2, 13, 6, 5, 10, 11, 7, 2, 7, 8, 8, 1, 9, 2, 5, 7, 5, 3, 11, 6, 6, 12, 1, 11, 1, 7, 8, 10, 3, 7, 6, 1, 2, 9, 1, 12, 3, 2, 3, 1, 8, 10, 3, 8, 6, 2, 7, 2, 7, 5, 8, 5, 6, 2, 7, 11, 6, 4, 4, 7, 11, 2, 14, 9, 8, 7, 6, 4, 13, 5, 7, 5, 7] 606\n",
      "Средняя длина слова:  5.97\n"
     ]
    }
   ],
   "source": [
    "#средняя длина слова в тексте\n",
    "word_list = [len(i) for i in smell_norm]\n",
    "print(word_list,len(word_list)) \n",
    "\n",
    "avg = sum(word_list)/len(word_list)\n",
    "print(\"Средняя длина слова: \", round(avg,2))"
   ]
  },
  {
   "cell_type": "code",
   "execution_count": 151,
   "metadata": {},
   "outputs": [
    {
     "name": "stdout",
     "output_type": "stream",
     "text": [
      "Уникальных слов: 403\n",
      "Доля уникальных слов: 0.665016501650165\n"
     ]
    }
   ],
   "source": [
    "#количество уникальных слов и пророрция общему количеству слов в тексте\n",
    "\n",
    "smell_set = set(smell_norm)\n",
    "print(\"Уникальных слов:\", len(smell_set))\n",
    "print (\"Доля уникальных слов:\", len(smell_set)/len(smell_norm))"
   ]
  },
  {
   "cell_type": "code",
   "execution_count": 75,
   "metadata": {},
   "outputs": [
    {
     "name": "stdout",
     "output_type": "stream",
     "text": [
      "[113, 43, 74, 155, 153, 89, 93, 138, 170, 28, 205, 117, 196, 122, 137, 205, 143, 123, 40, 125, 198, 206, 250, 58, 205, 91, 57, 197, 348, 138, 81]\n"
     ]
    }
   ],
   "source": [
    "#средняя длина предложения в тексте\n",
    "\n",
    "smell_sent = sent_tokenize(read_smell, 'russian')\n",
    "sent_list = [len(i) for i in smell_sent]\n",
    "print(sent_list)\n",
    "#Как дальше посчитать длину предложений в словах, а не в символах?"
   ]
  },
  {
   "cell_type": "code",
   "execution_count": 76,
   "metadata": {},
   "outputs": [
    {
     "name": "stdout",
     "output_type": "stream",
     "text": [
      "['Помните запах свежевыпеченного хлеба на дождливой улочке из той булочной, в которую вы заходили в прошлом месяце?', 'А как он смешался с запахом смолотого кофе?', 'А запах свежескошенной травы в парке освежающим вечером после жаркого дня?', 'Запахи ежеминутно сопровождают нас в городе, но они мимолетны и невидимы, поэтому часто ускользают от внимания урбанистов и исследователей городской среды.', 'Группа ученых из разных университетов мира в рамках проекта Smelly Maps решила исправить эту несправедливость и занялась исследованием городских запахов.', 'Самый первый и важный вопрос, с которым они столкнулись — откуда брать данные для работы?', 'Один из очевидных ответов — собирать данные на месте при помощи так называемых «smell walks».', 'Принцип прост: группа добровольцев идет по маршруту и записывает все запахи, которые чувствует по пути, отмечая конкретные места на карте.', 'На основе таких прогулок и нескольких исследований был составлен «словарь запахов», который состоял из всех слов, которыми добровольцы описывали запахи во время прогулки.', 'Просто, эффективно и дешево.', 'Но у такого метода есть недостатки: на обход даже небольшого города несколько десятков добровольцев потратит очень много времени, а если мы хотим еще и рассмотреть динамику, этот способ не подходит совсем.', 'Остается обратиться к добровольно собираемым и публикуемым в сети большим данным, а именно к данным социальных сетей.', 'Взять 17 миллионов фотографий из Flickr, 5.1 миллиона снимков из публичных аккаунтов Instagram и 5.3 миллиона твитов из Твиттера, каждый из которых обладает геотегом — и с этим уже можно работать.', 'Набор данных из Твиттера был очищен от ретвитов и ответов, после чего в сумме для анализа было готово 1.7 миллиона твитов.', 'Тексты твитов и подписей к фотографиям был распарсен, и из всего массива слов были отобраны только те, которые имеют отношение к запахам.', 'На основе этих данных был построен взвешенный граф связей между словами, в вершинах которого закреплены сами слова, а вес ребра соответствует количеству раз, когда эти два слова встречаются в одном тексте.', 'Такой анализ выявил несколько четко определенных категорий запахов, например, «природные», «индустриальные», «еда», «выбросы/выхлопы», «мусор».', 'Внутри категорий иногда можно было выделить подкатегории и определить самые часто встречающиеся слова-метки этой категории.', 'Схему этих категорий можно увидеть ниже.', 'Цвета выбраны не просто так.\\nИсследователи нашли связи между запахами и цветами, преобладающими на анализируемых фотографиях.', 'Запахи также связаны с негативными или позитивными эмоциями, например, категория «мусор» будет положительно коррелировать с негативными эмоциями, отвращением и печалью, но отрицательно — с радостью.', 'В современных городах существуют программы мониторинга качества воздуха, позволяющие городским службам оперативно реагировать на аномалии, а обычным горожанам следить за составом воздуха, которым они дышат.', 'Массив данных о городских запахах сравнили и с такими данными и сделали вывод о том, что данные о более низком качестве воздуха с примесями положительно коррелируют с такими категориями, как «выбросы/выхлопы», и отрицательно — с категорией «природа».', 'Такой вывод кажется логичным, но теперь он доказан научно.', 'По геотегам исследователи сделали интерактивные карты, где можно узнать, чем пахнут улицы таких городов мира, как Лондон и Барселона (два первых города, для которых были собраны и проанализированы данные).', 'Есть также карты Мадрида, Рима, Милана, Нью-Йорка и еще шести крупных американских городов.', 'Авторы утверждают, что список будет пополняться и дальше.', 'Для картографирования использовались открытые данные Open Street Map, внутри которых были выделены сегменты улиц от перекрестка до перекрестка, к которым были привязаны геотеги оригинальных данных.', 'На странице проекта, путешествуя по интерактивным картам, можно посмотреть соотношение запахов по каждому сегменту, например, в Барселоне на улице Бальмес запах еды преобладает:\\n\\nВместе запахи складываются в комплексный и сложный ландшафт, уникальный для каждого города, и он нуждается в исследовании так же, как и ландшафт визуальный или звуковой.', 'Кстати, по запросу от авторов можно получить также данные, на которых основывался проект, если есть желание исследовать их самостоятельно.', 'Источники:\\nСтраница проекта Smelly Maps\\nИнтерактивные карты проекта\\nНелли Бурцева']\n"
     ]
    }
   ],
   "source": [
    "print(smell_sent)\n",
    "# не могу понять, как работать дальше с каждым предложением, чтобы убрать из них слова и посчитать только знаки препинания"
   ]
  },
  {
   "cell_type": "code",
   "execution_count": null,
   "metadata": {},
   "outputs": [],
   "source": []
  }
 ],
 "metadata": {
  "kernelspec": {
   "display_name": "Python 3",
   "language": "python",
   "name": "python3"
  },
  "language_info": {
   "codemirror_mode": {
    "name": "ipython",
    "version": 3
   },
   "file_extension": ".py",
   "mimetype": "text/x-python",
   "name": "python",
   "nbconvert_exporter": "python",
   "pygments_lexer": "ipython3",
   "version": "3.8.6"
  }
 },
 "nbformat": 4,
 "nbformat_minor": 4
}
