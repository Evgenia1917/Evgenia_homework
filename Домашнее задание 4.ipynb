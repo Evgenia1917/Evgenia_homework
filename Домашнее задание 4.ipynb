{
 "cells": [
  {
   "cell_type": "markdown",
   "metadata": {},
   "source": [
    "Задача 1. Напишите генератор названий компаний (почти как генератор паролей). Пусть в названии компании будет 6 частей, рандомно выбирающихся из списка names.\n"
   ]
  },
  {
   "cell_type": "code",
   "execution_count": 3,
   "metadata": {},
   "outputs": [
    {
     "name": "stdout",
     "output_type": "stream",
     "text": [
      "фармтекстильвостокэкспоуралкубань\n"
     ]
    }
   ],
   "source": [
    "# генератор названий компаний\n",
    "\n",
    "import random\n",
    "\n",
    "names = [\"пром\",\"агро\",\"торг\",\"урал\",\"север\",\"юг\",\"техно\",\n",
    "\"экспо\",\"метал\",\"нефть\",\"сельхоз\",\"фарм\",\"строй\",\n",
    "\"кредит\",\"алмаз\",\"-девелопмент\",\"развитие\",\"мос\",\n",
    "\"рос\",\"кубань\",\"сибирь\",\"восток\",\"нано\",\"софт\",\n",
    "\"микро\",\"онлайн\",\"инвест\",\"текстиль\",\"цемент\"]\n",
    "\n",
    "# Ваш код ниже\n",
    "\n",
    "company = ''\n",
    "for x in range(6):\n",
    "     company = company + random.choice(names)\n",
    "print(company)\n",
    "\n",
    "# запустите ячейку несклько раз"
   ]
  },
  {
   "cell_type": "markdown",
   "metadata": {},
   "source": [
    "Задача 2. Транслитератор-2, более сложный\n",
    "\n",
    "Примерный порядок действий:\n",
    "\n",
    "напишите побуквенный транслитератор с кириллицы на латиницу(можно использовать написанный в прошлый раз)\n",
    "\n",
    "\"оберните\" ваш код транслитератора в функцию (т.е.сам код транслитератора будет в теле функции. Опишите функцию: как она называется, что у нее за аргументы, что она возвращает на выходе)\n",
    "\n",
    "Вызовите функцию: примените функцию к тексту (возьмите любой, на ваш выбор, длиной от 2 до 4 предложений. Хорошая идея - искать в статьях на Википедии)\n",
    "\n",
    "3.1. чтобы работать с текстом, сохраните его в переменную\n"
   ]
  },
  {
   "cell_type": "code",
   "execution_count": 37,
   "metadata": {},
   "outputs": [],
   "source": [
    "d = {' ':' ','А': 'A', 'Б': 'B', 'В': 'V', 'Г': 'G', 'Д': 'D', 'Е': 'E', 'Ё': 'E',\n",
    "     'Ж': 'Zh', 'З': 'Z', 'И': 'I', 'Й': 'I', 'К': 'K', 'Л': 'L', 'М': 'M',\n",
    "     'Н': 'N', 'О': 'O', 'П': 'P', 'Р': 'R', 'С': 'S', 'Т': 'T', 'У': 'U',\n",
    "     'Ф': 'F', 'Х': 'Kh', 'Ц': 'Tc', 'Ч': 'Ch', 'Ш': 'Sh', 'Щ': 'Shch',\n",
    "     'Ы': 'Y', 'Э': 'E', 'Ю': 'Iu', 'Я': 'Ia', 'а': 'a', 'б': 'b', 'в': 'v',\n",
    "     'г': 'g', 'д': 'd', 'е': 'e', 'ё': 'e', 'ж': 'zh', 'з': 'z', 'и': 'i',\n",
    "     'й': 'i', 'к': 'k', 'л': 'l', 'м': 'm', 'н': 'n', 'о': 'o', 'п': 'p',\n",
    "     'р': 'r', 'с': 's', 'т': 't', 'у': 'u', 'ф': 'f', 'х': 'kh', 'ц': 'tc',\n",
    "     'ч': 'ch', 'ш': 'sh', 'щ': 'shch', 'ы': 'y', 'э': 'e', 'ю': 'iu', 'я': 'ia',',':',','.':'.','':'','(':'(',')':')','1':'1','2':'2','3':'3','4':'4','5':'5','6':'6','7':'7','8':'8','9':'9','0':'0'}\n",
    "def transl():# функция transl транслитерирует текст с кириллицы на латиницу.У нее проихвольное число аргументов,она возвращает текст на латинице\n",
    "    name = input('Что транслитерируем?')\n",
    "    for i in name:\n",
    "        if i in d: \n",
    "            print(d.get(i), end='')\n",
    "# Я скопировала основной словарь, а потом добавила к нему цифры и символы.\n",
    "# Как сделать перенос, как в первых строчках словаря, чтобы его было видно весь и сразу?"
   ]
  },
  {
   "cell_type": "code",
   "execution_count": 38,
   "metadata": {},
   "outputs": [
    {
     "name": "stdout",
     "output_type": "stream",
     "text": [
      "Что транслитерируем?Циолковский дослужился до коллежского асессора (1889), за учительские успехи был награждён орденом Св. Станислава третьей степени (1906). В 1920 году был принят членом Русского общества любителей мироведения, удостоился персональной пенсии советского правительства, а в 1932 году — ордена Трудового Красного Знамени.\n",
      "Tciolkovskii dosluzhilsia do kollezhskogo asessora (1889), za uchitelskie uspekhi byl nagrazhden ordenom Sv. Stanislava tretei stepeni (1906). V 1920 godu byl priniat chlenom Russkogo obshchestva liubitelei mirovedeniia, udostoilsia personalnoi pensii sovetskogo pravitelstva, a v 1932 godu  ordena Trudovogo Krasnogo Znameni."
     ]
    }
   ],
   "source": [
    "transl()"
   ]
  },
  {
   "cell_type": "markdown",
   "metadata": {},
   "source": [
    "Задача 3. Усовершенствованный генератор паролей\n",
    "\n",
    "Используя генератор паролей описанный в начале тетрадки, создайте свой. Пароли, получаемые в результате, должны удовлетворять следующим условиям: - длина пароля - 15 символов - в пароле есть 3 заглавные буквы (любые, в любом месте пароля) - в пароле есть 4 цифры (любые, в любом месте) - оставшиеся символы пароля - строчные латинские буквы"
   ]
  },
  {
   "cell_type": "code",
   "execution_count": 99,
   "metadata": {},
   "outputs": [
    {
     "name": "stdout",
     "output_type": "stream",
     "text": [
      "PdbwwO96zb14Wot\n"
     ]
    }
   ],
   "source": [
    "\n",
    "import random\n",
    "passw = '' # предварительно создаем переменную для пароля, с типом \"строка\"\n",
    "\n",
    "\n",
    "for x in range(3): \n",
    "    passw = passw + random.choice('QWERTYUIOPASDFGHJKLZXCVBNM')\n",
    "for x in range(4):\n",
    "    passw = passw + random.choice('123456789')\n",
    "for x in range(8):\n",
    "    passw = passw + random.choice('qwertyuiopasdfghjklzxcvbnm')\n",
    "passw_list = list(passw)\n",
    "random.shuffle(passw_list)\n",
    "print(\"\".join(passw_list))\n",
    "\n"
   ]
  },
  {
   "cell_type": "code",
   "execution_count": null,
   "metadata": {},
   "outputs": [],
   "source": []
  },
  {
   "cell_type": "code",
   "execution_count": null,
   "metadata": {},
   "outputs": [],
   "source": []
  }
 ],
 "metadata": {
  "kernelspec": {
   "display_name": "Python 3",
   "language": "python",
   "name": "python3"
  },
  "language_info": {
   "codemirror_mode": {
    "name": "ipython",
    "version": 3
   },
   "file_extension": ".py",
   "mimetype": "text/x-python",
   "name": "python",
   "nbconvert_exporter": "python",
   "pygments_lexer": "ipython3",
   "version": "3.8.6"
  }
 },
 "nbformat": 4,
 "nbformat_minor": 4
}
